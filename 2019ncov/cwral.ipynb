{
 "cells": [
  {
   "cell_type": "code",
   "execution_count": 1,
   "metadata": {},
   "outputs": [
    {
     "name": "stderr",
     "output_type": "stream",
     "text": [
      "/Users/zhangwenkai/Library/Python/3.6/lib/python/site-packages/ipykernel_launcher.py:5: FutureWarning: \n",
      ".ix is deprecated. Please use\n",
      ".loc for label based indexing or\n",
      ".iloc for positional indexing\n",
      "\n",
      "See the documentation here:\n",
      "http://pandas.pydata.org/pandas-docs/stable/user_guide/indexing.html#ix-indexer-is-deprecated\n",
      "  \"\"\"\n",
      "/Users/zhangwenkai/Library/Python/3.6/lib/python/site-packages/ipykernel_launcher.py:6: FutureWarning: \n",
      ".ix is deprecated. Please use\n",
      ".loc for label based indexing or\n",
      ".iloc for positional indexing\n",
      "\n",
      "See the documentation here:\n",
      "http://pandas.pydata.org/pandas-docs/stable/user_guide/indexing.html#ix-indexer-is-deprecated\n",
      "  \n"
     ]
    }
   ],
   "source": [
    "import pandas as pd\n",
    "df = pd.read_csv('Wuhan-2019-nCoV.csv')\n",
    "df = df[['date', 'province', 'city', 'confirmed']]\n",
    "for i in range(len(df)):\n",
    "    if (df.ix[i, 'province'] == '台湾省') & (not pd.isnull(df.ix[i, 'city'])) :\n",
    "        df.ix[i, 'city'] = '台湾' \n",
    "        \n",
    "df = df.dropna(how='any')\n",
    "df = df.reset_index(drop=True)  "
   ]
  },
  {
   "cell_type": "code",
   "execution_count": 2,
   "metadata": {},
   "outputs": [
    {
     "data": {
      "text/plain": [
       "array(['湖北省', '广东省', '上海市', '北京市', '黑龙江省', '浙江省', '安徽省', '江西省', '山东省',\n",
       "       '河南省', '湖南省', '重庆市', '四川省', '贵州省', '河北省', '山西省', '辽宁省', '吉林省',\n",
       "       '江苏省', '福建省', '广西壮族自治区', '海南省', '陕西省', '宁夏回族自治区', '内蒙古自治区', '云南省',\n",
       "       '甘肃省', '新疆维吾尔自治区', '青海省', '天津市', '西藏自治区', '台湾省', '香港特别行政区',\n",
       "       '澳门特别行政区'], dtype=object)"
      ]
     },
     "execution_count": 2,
     "metadata": {},
     "output_type": "execute_result"
    }
   ],
   "source": [
    "df.province.unique()"
   ]
  },
  {
   "cell_type": "code",
   "execution_count": 3,
   "metadata": {},
   "outputs": [
    {
     "data": {
      "text/plain": [
       "array(['台湾'], dtype=object)"
      ]
     },
     "execution_count": 3,
     "metadata": {},
     "output_type": "execute_result"
    }
   ],
   "source": [
    "df[df['province']=='台湾省']['city'].unique()"
   ]
  },
  {
   "cell_type": "code",
   "execution_count": 4,
   "metadata": {},
   "outputs": [
    {
     "data": {
      "text/plain": [
       "15"
      ]
     },
     "execution_count": 4,
     "metadata": {},
     "output_type": "execute_result"
    }
   ],
   "source": [
    "import gc\n",
    "gc.collect()"
   ]
  },
  {
   "cell_type": "code",
   "execution_count": 5,
   "metadata": {},
   "outputs": [
    {
     "data": {
      "text/html": [
       "<div>\n",
       "<style scoped>\n",
       "    .dataframe tbody tr th:only-of-type {\n",
       "        vertical-align: middle;\n",
       "    }\n",
       "\n",
       "    .dataframe tbody tr th {\n",
       "        vertical-align: top;\n",
       "    }\n",
       "\n",
       "    .dataframe thead th {\n",
       "        text-align: right;\n",
       "    }\n",
       "</style>\n",
       "<table border=\"1\" class=\"dataframe\">\n",
       "  <thead>\n",
       "    <tr style=\"text-align: right;\">\n",
       "      <th></th>\n",
       "      <th>date</th>\n",
       "      <th>province</th>\n",
       "      <th>city</th>\n",
       "      <th>confirmed</th>\n",
       "    </tr>\n",
       "  </thead>\n",
       "  <tbody>\n",
       "    <tr>\n",
       "      <th>2461</th>\n",
       "      <td>2020-01-30</td>\n",
       "      <td>台湾省</td>\n",
       "      <td>台湾</td>\n",
       "      <td>9</td>\n",
       "    </tr>\n",
       "    <tr>\n",
       "      <th>2853</th>\n",
       "      <td>2020-01-31</td>\n",
       "      <td>台湾省</td>\n",
       "      <td>台湾</td>\n",
       "      <td>9</td>\n",
       "    </tr>\n",
       "    <tr>\n",
       "      <th>3254</th>\n",
       "      <td>2020-02-01</td>\n",
       "      <td>台湾省</td>\n",
       "      <td>台湾</td>\n",
       "      <td>9</td>\n",
       "    </tr>\n",
       "    <tr>\n",
       "      <th>3656</th>\n",
       "      <td>2020-02-02</td>\n",
       "      <td>台湾省</td>\n",
       "      <td>台湾</td>\n",
       "      <td>9</td>\n",
       "    </tr>\n",
       "    <tr>\n",
       "      <th>4067</th>\n",
       "      <td>2020-02-03</td>\n",
       "      <td>台湾省</td>\n",
       "      <td>台湾</td>\n",
       "      <td>9</td>\n",
       "    </tr>\n",
       "    <tr>\n",
       "      <th>5333</th>\n",
       "      <td>2020-02-06</td>\n",
       "      <td>台湾省</td>\n",
       "      <td>台湾</td>\n",
       "      <td>13</td>\n",
       "    </tr>\n",
       "    <tr>\n",
       "      <th>5808</th>\n",
       "      <td>2020-02-07</td>\n",
       "      <td>台湾省</td>\n",
       "      <td>台湾</td>\n",
       "      <td>16</td>\n",
       "    </tr>\n",
       "    <tr>\n",
       "      <th>6287</th>\n",
       "      <td>2020-02-08</td>\n",
       "      <td>台湾省</td>\n",
       "      <td>台湾</td>\n",
       "      <td>17</td>\n",
       "    </tr>\n",
       "    <tr>\n",
       "      <th>6767</th>\n",
       "      <td>2020-02-09</td>\n",
       "      <td>台湾省</td>\n",
       "      <td>台湾</td>\n",
       "      <td>18</td>\n",
       "    </tr>\n",
       "    <tr>\n",
       "      <th>7251</th>\n",
       "      <td>2020-02-10</td>\n",
       "      <td>台湾省</td>\n",
       "      <td>台湾</td>\n",
       "      <td>18</td>\n",
       "    </tr>\n",
       "    <tr>\n",
       "      <th>7735</th>\n",
       "      <td>2020-02-11</td>\n",
       "      <td>台湾省</td>\n",
       "      <td>台湾</td>\n",
       "      <td>18</td>\n",
       "    </tr>\n",
       "    <tr>\n",
       "      <th>8219</th>\n",
       "      <td>2020-02-12</td>\n",
       "      <td>台湾省</td>\n",
       "      <td>台湾</td>\n",
       "      <td>18</td>\n",
       "    </tr>\n",
       "  </tbody>\n",
       "</table>\n",
       "</div>"
      ],
      "text/plain": [
       "            date province city  confirmed\n",
       "2461  2020-01-30      台湾省   台湾          9\n",
       "2853  2020-01-31      台湾省   台湾          9\n",
       "3254  2020-02-01      台湾省   台湾          9\n",
       "3656  2020-02-02      台湾省   台湾          9\n",
       "4067  2020-02-03      台湾省   台湾          9\n",
       "5333  2020-02-06      台湾省   台湾         13\n",
       "5808  2020-02-07      台湾省   台湾         16\n",
       "6287  2020-02-08      台湾省   台湾         17\n",
       "6767  2020-02-09      台湾省   台湾         18\n",
       "7251  2020-02-10      台湾省   台湾         18\n",
       "7735  2020-02-11      台湾省   台湾         18\n",
       "8219  2020-02-12      台湾省   台湾         18"
      ]
     },
     "execution_count": 5,
     "metadata": {},
     "output_type": "execute_result"
    }
   ],
   "source": [
    "df[df['province']=='台湾省']"
   ]
  },
  {
   "cell_type": "code",
   "execution_count": 119,
   "metadata": {},
   "outputs": [
    {
     "data": {
      "text/html": [
       "<div>\n",
       "<style scoped>\n",
       "    .dataframe tbody tr th:only-of-type {\n",
       "        vertical-align: middle;\n",
       "    }\n",
       "\n",
       "    .dataframe tbody tr th {\n",
       "        vertical-align: top;\n",
       "    }\n",
       "\n",
       "    .dataframe thead th {\n",
       "        text-align: right;\n",
       "    }\n",
       "</style>\n",
       "<table border=\"1\" class=\"dataframe\">\n",
       "  <thead>\n",
       "    <tr style=\"text-align: right;\">\n",
       "      <th></th>\n",
       "      <th>date</th>\n",
       "      <th>province</th>\n",
       "      <th>city</th>\n",
       "      <th>confirmed</th>\n",
       "    </tr>\n",
       "  </thead>\n",
       "  <tbody>\n",
       "    <tr>\n",
       "      <th>0</th>\n",
       "      <td>2019-12-01</td>\n",
       "      <td>NaN</td>\n",
       "      <td>NaN</td>\n",
       "      <td>1</td>\n",
       "    </tr>\n",
       "    <tr>\n",
       "      <th>1</th>\n",
       "      <td>2019-12-01</td>\n",
       "      <td>湖北省</td>\n",
       "      <td>NaN</td>\n",
       "      <td>1</td>\n",
       "    </tr>\n",
       "    <tr>\n",
       "      <th>2</th>\n",
       "      <td>2019-12-01</td>\n",
       "      <td>湖北省</td>\n",
       "      <td>武汉市</td>\n",
       "      <td>1</td>\n",
       "    </tr>\n",
       "    <tr>\n",
       "      <th>3</th>\n",
       "      <td>2019-12-02</td>\n",
       "      <td>NaN</td>\n",
       "      <td>NaN</td>\n",
       "      <td>1</td>\n",
       "    </tr>\n",
       "    <tr>\n",
       "      <th>4</th>\n",
       "      <td>2019-12-02</td>\n",
       "      <td>湖北省</td>\n",
       "      <td>NaN</td>\n",
       "      <td>1</td>\n",
       "    </tr>\n",
       "  </tbody>\n",
       "</table>\n",
       "</div>"
      ],
      "text/plain": [
       "         date province city  confirmed\n",
       "0  2019-12-01      NaN  NaN          1\n",
       "1  2019-12-01      湖北省  NaN          1\n",
       "2  2019-12-01      湖北省  武汉市          1\n",
       "3  2019-12-02      NaN  NaN          1\n",
       "4  2019-12-02      湖北省  NaN          1"
      ]
     },
     "execution_count": 119,
     "metadata": {},
     "output_type": "execute_result"
    }
   ],
   "source": [
    "df.head()"
   ]
  },
  {
   "cell_type": "code",
   "execution_count": 10,
   "metadata": {
    "scrolled": false
   },
   "outputs": [
    {
     "data": {
      "text/plain": [
       "array(['武汉市', '深圳市', '外地来沪', '武汉来京', '西城区', '丰台区', '海淀区', '通州区', '昌平区',\n",
       "       '大兴区', '牡丹江市', '杭州市', '温州市', '舟山市', '台州市', '合肥市', '萍乡市', '抚州市',\n",
       "       '青岛市', '郑州市', '长沙市', '广州市', '韶关市', '珠海市', '佛山市', '湛江市', '惠州市',\n",
       "       '万州区', '长寿区', '巫山县', '成都市', '绵阳市', '广安市', '贵阳市', '朝阳区', '石景山区',\n",
       "       '石家庄市', '太原市', '沈阳市', '大连市', '长春市', '苏州市', '宁波市', '六安市', '福州市',\n",
       "       '南昌市', '威海市', '临沂市', '巩义市', '洛阳市', '三门峡市', '怀化市', '肇庆市', '中山市',\n",
       "       '柳州市', '梧州市', '北海市', '海口市', '三亚市', '儋州市', '五指山市', '琼海市', '文昌市',\n",
       "       '万宁市', '东方市', '临高县', '昌江黎族自治县', '琼中黎族苗族自治县', '涪陵区', '永川区', '垫江县',\n",
       "       '铜仁市', '黔南布依族苗族自治州', '银川市', '外地来京', '沧州市', '呼伦贝尔市', '锡林郭勒盟', '朝阳市',\n",
       "       '吉林市', '松原市', '哈尔滨市', '大庆市', '绥化市', '南京市', '无锡市', '南通市', '连云港市',\n",
       "       '扬州市', '嘉兴市', '绍兴市', '金华市', '衢州市', '蚌埠市', '安庆市', '滁州市', '阜阳市',\n",
       "       '亳州市', '池州市', '厦门市', '泉州市', '宁德市', '九江市', '新余市', '吉安市', '潍坊市',\n",
       "       '日照市', '信阳市', '周口市', '十堰市', '宜昌市', '荆门市', '孝感市', '荆州市', '黄冈市',\n",
       "       '仙桃市', '株洲市', '湘潭市', '岳阳市', '郴州市', '永州市', '娄底市', '阳江市', '清远市',\n",
       "       '桂林市', '百色市', '河池市', '两江新区', '大渡口区', '九龙坡区', '渝北区', '开州区', '忠县',\n",
       "       '云阳县', '奉节县', '巫溪县', '秀山土家族苗族自治县', '德阳市', '遂宁市', '达州市', '雅安市',\n",
       "       '昆明市', '西安市', '咸阳市', '延安市', '兰州市', '白银市', '中卫市', '乌鲁木齐市', '顺义区',\n",
       "       '保定市', '承德市', '大同市', '长治市', '运城市', '赤峰市', '鄂尔多斯市', '本溪市', '铁岭市',\n",
       "       '葫芦岛市', '常州市', '盐城市', '宿迁市', '芜湖市', '马鞍山市', '铜陵市', '三明市', '漳州市',\n",
       "       '景德镇市', '赣州市', '宜春市', '上饶市', '济南市', '烟台市', '济宁市', '德州市', '聊城市',\n",
       "       '滨州市', '菏泽市', '平顶山市', '新乡市', '南阳市', '固始县', '驻马店市', '鄂州市', '随州市',\n",
       "       '恩施土家族苗族自治州', '天门市', '衡阳市', '邵阳市', '常德市', '益阳市', '汕头市', '东莞市',\n",
       "       '防城港市', '玉林市', '合川区', '璧山区', '梁平区', '城口县', '丰都县', '石柱土家族自治县',\n",
       "       '自贡市', '泸州市', '内江市', '丽江市', '西双版纳傣族自治州', '安康市', '西宁市', '固原市',\n",
       "       '外地来津', '和平区', '河东区', '南开区', '河北区', '西青区', '滨海新区', '邯郸市', '阳泉市',\n",
       "       '晋中市', '齐齐哈尔市', '淮安市', '泰州市', '湖州市', '丽水市', '淮南市', '淮北市', '黄山市',\n",
       "       '宿州市', '宣城市', '淄博市', '安阳市', '漯河市', '黄石市', '襄阳市', '咸宁市',\n",
       "       '湘西土家族苗族自治州', '揭阳市', '南宁市', '澄迈县', '陵水黎族自治县', '江北区', '大足区', '铜梁区',\n",
       "       '乐山市', '峨眉山市', '南充市', '甘孜藏族自治州', '黔西南布依族苗族自治州', '曲靖市', '玉溪市',\n",
       "       '红河哈尼族彝族自治州', '大理白族自治州', '定西市', '临夏回族自治州', '伊犁哈萨克自治州', '东城区',\n",
       "       '邢台市', '廊坊市', '衡水市', '朔州市', '临汾市', '吕梁市', '包头市', '通辽市', '兴安盟',\n",
       "       '丹东市', '营口市', '盘锦市', '四平市', '双鸭山市', '佳木斯市', '七台河市', '黄浦区', '徐汇区',\n",
       "       '长宁区', '静安区', '虹口区', '闵行区', '宝山区', '嘉定区', '浦东新区', '青浦区', '奉贤区',\n",
       "       '徐州市', '镇江市', '莆田市', '南平市', '龙岩市', '枣庄市', '泰安市', '开封市', '鹤壁市',\n",
       "       '许昌市', '商丘市', '潜江市', '梅州市', '汕尾市', '綦江区', '巴南区', '江津区', '潼南区',\n",
       "       '宜宾市', '资阳市', '凉山彝族自治州', '六盘水市', '保山市', '昭通市', '德宏傣族景颇族自治州', '张掖市',\n",
       "       '陇南市', '河西区', '红桥区', '唐山市', '张家口市', '公主岭市', '宿松县', '鹰潭市', '焦作市',\n",
       "       '神农架林区', '南岸区', '黔江区', '铜川市', '渭南市', '汉中市', '商洛市', '金昌市', '天水市',\n",
       "       '吴忠市', '第七师', '第八师石河子市', '吐鲁番市', '秦皇岛市', '呼和浩特市', '巴彦淖尔市', '锦州市',\n",
       "       '辽阳市', '通化市', '鸡西市', '濮阳市', '茂名市', '河源市', '渝中区', '广元市', '巴中市',\n",
       "       '遵义市', '毕节市', '黔东南苗族侗族自治州', '普洱市', '拉萨市', '宝鸡市', '平凉市', '待确认',\n",
       "       '门头沟区', '怀柔区', '辛集市', '定州市', '兴安盟乌兰浩特', '乌兰察布市', '延边朝鲜族自治州', '鹤岗市',\n",
       "       '大兴安岭地区', '金山区', '松江区', '平潭县', '长垣市', '滑县', '张家界市', '江门市', '钦州市',\n",
       "       '贺州市', '武隆区', '宁东', '杨浦区', '长垣县', '永城市', '定安县', '荣昌区', '攀枝花市',\n",
       "       '阿坝藏族羌族自治州', '韩城市', '榆林市', '阿克苏地区', '所属地待确认', '天津', '未明确地区',\n",
       "       '第八师石河子'], dtype=object)"
      ]
     },
     "execution_count": 10,
     "metadata": {},
     "output_type": "execute_result"
    }
   ],
   "source": [
    "df.city.unique()"
   ]
  },
  {
   "cell_type": "code",
   "execution_count": 6,
   "metadata": {
    "scrolled": true
   },
   "outputs": [
    {
     "name": "stderr",
     "output_type": "stream",
     "text": [
      "/Users/zhangwenkai/Library/Python/3.6/lib/python/site-packages/ipykernel_launcher.py:2: FutureWarning: \n",
      ".ix is deprecated. Please use\n",
      ".loc for label based indexing or\n",
      ".iloc for positional indexing\n",
      "\n",
      "See the documentation here:\n",
      "http://pandas.pydata.org/pandas-docs/stable/user_guide/indexing.html#ix-indexer-is-deprecated\n",
      "  \n",
      "/Users/zhangwenkai/Library/Python/3.6/lib/python/site-packages/ipykernel_launcher.py:3: FutureWarning: \n",
      ".ix is deprecated. Please use\n",
      ".loc for label based indexing or\n",
      ".iloc for positional indexing\n",
      "\n",
      "See the documentation here:\n",
      "http://pandas.pydata.org/pandas-docs/stable/user_guide/indexing.html#ix-indexer-is-deprecated\n",
      "  This is separate from the ipykernel package so we can avoid doing imports until\n",
      "/Users/zhangwenkai/Library/Python/3.6/lib/python/site-packages/ipykernel_launcher.py:4: FutureWarning: \n",
      ".ix is deprecated. Please use\n",
      ".loc for label based indexing or\n",
      ".iloc for positional indexing\n",
      "\n",
      "See the documentation here:\n",
      "http://pandas.pydata.org/pandas-docs/stable/user_guide/indexing.html#ix-indexer-is-deprecated\n",
      "  after removing the cwd from sys.path.\n",
      "/Users/zhangwenkai/Library/Python/3.6/lib/python/site-packages/ipykernel_launcher.py:6: FutureWarning: \n",
      ".ix is deprecated. Please use\n",
      ".loc for label based indexing or\n",
      ".iloc for positional indexing\n",
      "\n",
      "See the documentation here:\n",
      "http://pandas.pydata.org/pandas-docs/stable/user_guide/indexing.html#ix-indexer-is-deprecated\n",
      "  \n",
      "/Users/zhangwenkai/Library/Python/3.6/lib/python/site-packages/ipykernel_launcher.py:7: FutureWarning: \n",
      ".ix is deprecated. Please use\n",
      ".loc for label based indexing or\n",
      ".iloc for positional indexing\n",
      "\n",
      "See the documentation here:\n",
      "http://pandas.pydata.org/pandas-docs/stable/user_guide/indexing.html#ix-indexer-is-deprecated\n",
      "  import sys\n",
      "/Users/zhangwenkai/Library/Python/3.6/lib/python/site-packages/ipykernel_launcher.py:5: FutureWarning: \n",
      ".ix is deprecated. Please use\n",
      ".loc for label based indexing or\n",
      ".iloc for positional indexing\n",
      "\n",
      "See the documentation here:\n",
      "http://pandas.pydata.org/pandas-docs/stable/user_guide/indexing.html#ix-indexer-is-deprecated\n",
      "  \"\"\"\n"
     ]
    }
   ],
   "source": [
    "for i in range(len(df)):\n",
    "    if '市' in df.ix[i, 'city']:\n",
    "        df.ix[i, 'city'] = df.ix[i, 'city'][:-1]\n",
    "    if '县' in df.ix[i, 'city']:\n",
    "        df.ix[i, 'city'] = df.ix[i, 'city'][:-1]\n",
    "    if '区' in df.ix[i, 'city']:\n",
    "        df.ix[i, 'city'] = df.ix[i, 'city'][:-1]\n",
    "    \n",
    "    "
   ]
  },
  {
   "cell_type": "code",
   "execution_count": 7,
   "metadata": {},
   "outputs": [],
   "source": [
    "df.to_csv('city_new.csv', index=False)"
   ]
  },
  {
   "cell_type": "code",
   "execution_count": 16,
   "metadata": {},
   "outputs": [],
   "source": [
    "data = pd.read_csv('city_new.csv')"
   ]
  },
  {
   "cell_type": "code",
   "execution_count": 34,
   "metadata": {},
   "outputs": [],
   "source": [
    "def load_data():\n",
    "    data = pd.read_csv('city_new.csv')\n",
    "    time = list(set(list(data.date)))\n",
    "\n",
    "    return data, time\n",
    "\n",
    "\n",
    "def catch_distribution(data, t):\n",
    "    \"\"\"抓取行政区域确诊分布数据\"\"\"\n",
    "\n",
    "\n",
    "    data_dict = {}\n",
    "    t = t\n",
    "    \n",
    "    df = data[data['date'] == t]\n",
    "    city_ = list(df.city)\n",
    "    num_ = list(df.confirmed)\n",
    "    \n",
    "    for i in range(len(df)):\n",
    "        l = lazy_pinyin(city_[i])\n",
    "        py = ''.join(l)\n",
    "        data_dict[py] = num_[i]\n",
    "\n",
    "    return data_dict"
   ]
  },
  {
   "cell_type": "code",
   "execution_count": 28,
   "metadata": {},
   "outputs": [],
   "source": [
    "data_total, time = load_data()"
   ]
  },
  {
   "cell_type": "code",
   "execution_count": 33,
   "metadata": {},
   "outputs": [
    {
     "data": {
      "text/html": [
       "<div>\n",
       "<style scoped>\n",
       "    .dataframe tbody tr th:only-of-type {\n",
       "        vertical-align: middle;\n",
       "    }\n",
       "\n",
       "    .dataframe tbody tr th {\n",
       "        vertical-align: top;\n",
       "    }\n",
       "\n",
       "    .dataframe thead th {\n",
       "        text-align: right;\n",
       "    }\n",
       "</style>\n",
       "<table border=\"1\" class=\"dataframe\">\n",
       "  <thead>\n",
       "    <tr style=\"text-align: right;\">\n",
       "      <th></th>\n",
       "      <th>date</th>\n",
       "      <th>city</th>\n",
       "      <th>confirmed</th>\n",
       "    </tr>\n",
       "  </thead>\n",
       "  <tbody>\n",
       "    <tr>\n",
       "      <th>0</th>\n",
       "      <td>2019-12-01</td>\n",
       "      <td>武汉</td>\n",
       "      <td>1</td>\n",
       "    </tr>\n",
       "    <tr>\n",
       "      <th>1</th>\n",
       "      <td>2019-12-02</td>\n",
       "      <td>武汉</td>\n",
       "      <td>1</td>\n",
       "    </tr>\n",
       "    <tr>\n",
       "      <th>2</th>\n",
       "      <td>2019-12-03</td>\n",
       "      <td>武汉</td>\n",
       "      <td>1</td>\n",
       "    </tr>\n",
       "    <tr>\n",
       "      <th>3</th>\n",
       "      <td>2019-12-04</td>\n",
       "      <td>武汉</td>\n",
       "      <td>1</td>\n",
       "    </tr>\n",
       "    <tr>\n",
       "      <th>4</th>\n",
       "      <td>2019-12-05</td>\n",
       "      <td>武汉</td>\n",
       "      <td>1</td>\n",
       "    </tr>\n",
       "  </tbody>\n",
       "</table>\n",
       "</div>"
      ],
      "text/plain": [
       "         date city  confirmed\n",
       "0  2019-12-01   武汉          1\n",
       "1  2019-12-02   武汉          1\n",
       "2  2019-12-03   武汉          1\n",
       "3  2019-12-04   武汉          1\n",
       "4  2019-12-05   武汉          1"
      ]
     },
     "execution_count": 33,
     "metadata": {},
     "output_type": "execute_result"
    }
   ],
   "source": [
    "data_total.head()"
   ]
  },
  {
   "cell_type": "code",
   "execution_count": 35,
   "metadata": {},
   "outputs": [],
   "source": [
    "from pypinyin import lazy_pinyin\n",
    "data = catch_distribution(data_total, time[0])"
   ]
  },
  {
   "cell_type": "code",
   "execution_count": 36,
   "metadata": {},
   "outputs": [
    {
     "data": {
      "text/plain": [
       "{'wuhan': 18}"
      ]
     },
     "execution_count": 36,
     "metadata": {},
     "output_type": "execute_result"
    }
   ],
   "source": [
    "data"
   ]
  },
  {
   "cell_type": "code",
   "execution_count": 56,
   "metadata": {},
   "outputs": [],
   "source": [
    "rule = pd.read_csv('rule.csv')"
   ]
  },
  {
   "cell_type": "code",
   "execution_count": 58,
   "metadata": {
    "scrolled": true
   },
   "outputs": [
    {
     "name": "stderr",
     "output_type": "stream",
     "text": [
      "/Users/zhangwenkai/Library/Python/3.6/lib/python/site-packages/ipykernel_launcher.py:3: FutureWarning: \n",
      ".ix is deprecated. Please use\n",
      ".loc for label based indexing or\n",
      ".iloc for positional indexing\n",
      "\n",
      "See the documentation here:\n",
      "http://pandas.pydata.org/pandas-docs/stable/user_guide/indexing.html#ix-indexer-is-deprecated\n",
      "  This is separate from the ipykernel package so we can avoid doing imports until\n"
     ]
    }
   ],
   "source": [
    "rule_ = {}\n",
    "for i in range(len(rule)):\n",
    "    rule_[rule.ix[i, 'city']] = rule.ix[i, 'pinyin']\n",
    "    "
   ]
  },
  {
   "cell_type": "code",
   "execution_count": 59,
   "metadata": {},
   "outputs": [
    {
     "data": {
      "text/plain": [
       "{'恩施土家族苗族自治州': 'Enshi Tujia and Miao',\n",
       " '神农架林': 'Shennongjia',\n",
       " '襄阳': 'Xiangfan',\n",
       " '随州': 'Suizhou Shi',\n",
       " '漯河': 'Luohe',\n",
       " '湘西土家族苗族自治州': 'Xiangxi Tujia and Miao',\n",
       " '六安': \"Lu'an\",\n",
       " '马鞍山': \"Ma'anshan\",\n",
       " '吉安': \"Ji'an\",\n",
       " '巴南': 'Ba',\n",
       " '璧山': 'Bishan',\n",
       " '长寿': 'Changshou',\n",
       " '城口': 'Chengkou',\n",
       " '大足': 'Dazu',\n",
       " '垫江': 'Dianjiang',\n",
       " '丰都': 'Fengdu',\n",
       " '奉节': 'Fengjie',\n",
       " '涪陵': 'Fuling',\n",
       " '合川': 'Hechuan',\n",
       " '江北': 'Jiangbei',\n",
       " '江津': 'Jiangjin',\n",
       " '开州': 'Kai',\n",
       " '梁平': 'Liangping',\n",
       " nan: 'Youyang',\n",
       " '黔江': 'Qianjiang',\n",
       " '綦江': 'Qijiang',\n",
       " '荣昌': 'Rongchang',\n",
       " '石柱土家族自治': 'Shizhu',\n",
       " '铜梁': 'Tongliang',\n",
       " '潼南': 'Tongnan',\n",
       " '万州': 'Wan',\n",
       " '武隆': 'Wulong',\n",
       " '巫山': 'Wushan',\n",
       " '巫溪': 'Wuxi',\n",
       " '秀山土家族苗族自治': 'Xiushan',\n",
       " '永川': 'Yongchuan',\n",
       " '云阳': 'Yunyang',\n",
       " '忠': 'Zhong',\n",
       " '甘孜藏族自治州': 'Garzê Tibetan',\n",
       " '阿坝藏族羌族自治州': 'Ngawa Tibetan and Qiang',\n",
       " '凉山彝族自治州': 'Liangshan Yi',\n",
       " '雅安': \"Ya'an\",\n",
       " '峨眉山': 'Meishan',\n",
       " '广安': \"Guang'an\",\n",
       " '淮安': \"Huai'an\",\n",
       " '泰安': \"Tai'an\"}"
      ]
     },
     "execution_count": 59,
     "metadata": {},
     "output_type": "execute_result"
    }
   ],
   "source": [
    "rule_"
   ]
  },
  {
   "cell_type": "code",
   "execution_count": 82,
   "metadata": {},
   "outputs": [
    {
     "data": {
      "text/html": [
       "<div>\n",
       "<style scoped>\n",
       "    .dataframe tbody tr th:only-of-type {\n",
       "        vertical-align: middle;\n",
       "    }\n",
       "\n",
       "    .dataframe tbody tr th {\n",
       "        vertical-align: top;\n",
       "    }\n",
       "\n",
       "    .dataframe thead th {\n",
       "        text-align: right;\n",
       "    }\n",
       "</style>\n",
       "<table border=\"1\" class=\"dataframe\">\n",
       "  <thead>\n",
       "    <tr style=\"text-align: right;\">\n",
       "      <th></th>\n",
       "      <th>AREA</th>\n",
       "      <th>BOUND_A_</th>\n",
       "      <th>BOUND_A_ID</th>\n",
       "      <th>FCNAME</th>\n",
       "      <th>FENAME</th>\n",
       "      <th>NAME</th>\n",
       "      <th>OWNER</th>\n",
       "      <th>PERIMETER</th>\n",
       "      <th>SOC</th>\n",
       "      <th>geometry</th>\n",
       "    </tr>\n",
       "  </thead>\n",
       "  <tbody>\n",
       "    <tr>\n",
       "      <th>0</th>\n",
       "      <td>54.4821</td>\n",
       "      <td>6</td>\n",
       "      <td>5</td>\n",
       "      <td>黑龙江省</td>\n",
       "      <td>Heilongjiang Sheng</td>\n",
       "      <td>None</td>\n",
       "      <td>黑龙江省</td>\n",
       "      <td>70.1328</td>\n",
       "      <td>CHN</td>\n",
       "      <td>POLYGON ((121.48938 53.33117, 121.49162 53.331...</td>\n",
       "    </tr>\n",
       "    <tr>\n",
       "      <th>1</th>\n",
       "      <td>129.0670</td>\n",
       "      <td>7</td>\n",
       "      <td>6</td>\n",
       "      <td>内蒙古自治区</td>\n",
       "      <td>Neimongol Zizhiqu</td>\n",
       "      <td>None</td>\n",
       "      <td>内蒙古自治区</td>\n",
       "      <td>133.9940</td>\n",
       "      <td>CHN</td>\n",
       "      <td>POLYGON ((121.48938 53.33117, 121.49769 53.320...</td>\n",
       "    </tr>\n",
       "    <tr>\n",
       "      <th>2</th>\n",
       "      <td>175.0860</td>\n",
       "      <td>23</td>\n",
       "      <td>26</td>\n",
       "      <td>新疆维吾尔自治区</td>\n",
       "      <td>Xinjianguygur Zizhiqu</td>\n",
       "      <td>None</td>\n",
       "      <td>新疆维吾尔自治区</td>\n",
       "      <td>86.0871</td>\n",
       "      <td>CHN</td>\n",
       "      <td>POLYGON ((87.31262 49.10914, 87.31808 49.10807...</td>\n",
       "    </tr>\n",
       "    <tr>\n",
       "      <th>3</th>\n",
       "      <td>21.3066</td>\n",
       "      <td>54</td>\n",
       "      <td>59</td>\n",
       "      <td>吉林省</td>\n",
       "      <td>Jilin Sheng</td>\n",
       "      <td>None</td>\n",
       "      <td>吉林省</td>\n",
       "      <td>43.2982</td>\n",
       "      <td>CHN</td>\n",
       "      <td>POLYGON ((123.17773 46.24767, 123.18046 46.248...</td>\n",
       "    </tr>\n",
       "    <tr>\n",
       "      <th>4</th>\n",
       "      <td>15.5891</td>\n",
       "      <td>107</td>\n",
       "      <td>122</td>\n",
       "      <td>辽宁省</td>\n",
       "      <td>Liaoning Sheng</td>\n",
       "      <td>None</td>\n",
       "      <td>辽宁省</td>\n",
       "      <td>40.6203</td>\n",
       "      <td>CHN</td>\n",
       "      <td>POLYGON ((125.70507 40.86603, 125.69979 40.864...</td>\n",
       "    </tr>\n",
       "  </tbody>\n",
       "</table>\n",
       "</div>"
      ],
      "text/plain": [
       "       AREA  BOUND_A_  BOUND_A_ID    FCNAME                 FENAME  NAME  \\\n",
       "0   54.4821         6           5      黑龙江省     Heilongjiang Sheng  None   \n",
       "1  129.0670         7           6    内蒙古自治区      Neimongol Zizhiqu  None   \n",
       "2  175.0860        23          26  新疆维吾尔自治区  Xinjianguygur Zizhiqu  None   \n",
       "3   21.3066        54          59       吉林省            Jilin Sheng  None   \n",
       "4   15.5891       107         122       辽宁省         Liaoning Sheng  None   \n",
       "\n",
       "      OWNER  PERIMETER  SOC                                           geometry  \n",
       "0      黑龙江省    70.1328  CHN  POLYGON ((121.48938 53.33117, 121.49162 53.331...  \n",
       "1    内蒙古自治区   133.9940  CHN  POLYGON ((121.48938 53.33117, 121.49769 53.320...  \n",
       "2  新疆维吾尔自治区    86.0871  CHN  POLYGON ((87.31262 49.10914, 87.31808 49.10807...  \n",
       "3       吉林省    43.2982  CHN  POLYGON ((123.17773 46.24767, 123.18046 46.248...  \n",
       "4       辽宁省    40.6203  CHN  POLYGON ((125.70507 40.86603, 125.69979 40.864...  "
      ]
     },
     "execution_count": 82,
     "metadata": {},
     "output_type": "execute_result"
    }
   ],
   "source": [
    "import shapely, geopandas, fiona\n",
    "import seaborn as sns\n",
    "from fiona.crs import from_epsg,from_string\n",
    " \n",
    "tpath = 'res/china-shapefiles-master/china.shp'\n",
    " \n",
    "shp_df = geopandas.GeoDataFrame.from_file(tpath,encoding = 'utf-8')\n",
    "shp_df.head()    # 获取表头\n"
   ]
  },
  {
   "cell_type": "code",
   "execution_count": 85,
   "metadata": {},
   "outputs": [
    {
     "data": {
      "text/plain": [
       "array(['黑龙江省', '内蒙古自治区', '新疆维吾尔自治区', '吉林省', '辽宁省', '甘肃省', '河北省', '北京市',\n",
       "       '山西省', '天津市', '陕西省', '宁夏回族自治区', '青海省', '山东省', '西藏自治区', '河南省',\n",
       "       '江苏省', '安徽省', '四川省', '湖北省', '重庆市', '上海市', '浙江省', '湖南省', '江西省',\n",
       "       '云南省', '贵州省', '福建省', '广西壮族自治区', '台湾省', '广东省', '香港特别行政区', '澳门特别行政区',\n",
       "       '海南省'], dtype=object)"
      ]
     },
     "execution_count": 85,
     "metadata": {},
     "output_type": "execute_result"
    }
   ],
   "source": [
    "shp_df['OWNER'].unique()"
   ]
  },
  {
   "cell_type": "code",
   "execution_count": null,
   "metadata": {},
   "outputs": [],
   "source": []
  }
 ],
 "metadata": {
  "kernelspec": {
   "display_name": "Python 3",
   "language": "python",
   "name": "python3"
  },
  "language_info": {
   "codemirror_mode": {
    "name": "ipython",
    "version": 3
   },
   "file_extension": ".py",
   "mimetype": "text/x-python",
   "name": "python",
   "nbconvert_exporter": "python",
   "pygments_lexer": "ipython3",
   "version": "3.6.0"
  }
 },
 "nbformat": 4,
 "nbformat_minor": 2
}
